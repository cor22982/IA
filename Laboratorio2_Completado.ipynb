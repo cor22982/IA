{
  "nbformat": 4,
  "nbformat_minor": 0,
  "metadata": {
    "colab": {
      "provenance": []
    },
    "kernelspec": {
      "name": "python3",
      "display_name": "Python 3"
    },
    "language_info": {
      "name": "python"
    }
  },
  "cells": [
    {
      "cell_type": "markdown",
      "source": [
        "#Laboratorio 2 Inteligencia Artificial"
      ],
      "metadata": {
        "id": "AToRs-1r6K5i"
      }
    },
    {
      "cell_type": "markdown",
      "source": [
        "## Repositorio"
      ],
      "metadata": {
        "id": "Yt0DZJaqckFn"
      }
    },
    {
      "cell_type": "markdown",
      "source": [
        "https://github.com/cor22982/IA/tree/lab2"
      ],
      "metadata": {
        "id": "6WDbDkSlcmPb"
      }
    },
    {
      "cell_type": "markdown",
      "source": [
        "#Task 1 - Preguntas Teoricas"
      ],
      "metadata": {
        "id": "IZZ5jCTX6N2H"
      }
    },
    {
      "cell_type": "markdown",
      "source": [
        "# ¿Por qué el modelo de Naive Bayes se le considera “naive”?"
      ],
      "metadata": {
        "id": "gT25sQiv6ix9"
      }
    },
    {
      "cell_type": "markdown",
      "source": [
        "El algoritmo se considera ingenuo e inocente simplemente porque la suposición en la que se basa al aplicar este modelo casi nunca ocurre en la realidad. Y la base del modelo es que supone que las características de medición son independientes entre sí y contribuyen por igual al resultado."
      ],
      "metadata": {
        "id": "MM1MDraB7XbH"
      }
    },
    {
      "cell_type": "markdown",
      "source": [
        "# Explique la formulación matemática que se busca optimizar en Support Vector Machine, además responda ¿cómo funciona el truco del Kernel para este modelo?"
      ],
      "metadata": {
        "id": "La3-Ne6q6nCz"
      }
    },
    {
      "cell_type": "markdown",
      "source": [
        "\n",
        "\n",
        "*   En SVM de busca encontrar una linea (hiperplano) que separe los datos de mejor manera, lo ideal es que esta linea tenga la mayor distancia entre los puntos de la misma clase que estan cerca ,la distancia del margen se define como  2/||w|| donde ||w|| es el vector de pesos y define la orientacion del hiperplano y para maximizar el margen se minimiza:  1/2||w||^2 y esta formula esta sujeta a la condicion donde todos los puntos esten clasificados la cual es: y(w * x + b)>= 1, donde w es el vector que difine el hiperplano, b es el sesgo, y es la etiqueta de clase con valores de (+1 o -1) y x son las caracteristicas de los datos.\n",
        "\n",
        "*   El truco del kernel en las SVM permite resolver problemas donde los datos no son separables linealmente en su espacio original.Y funciona permitiendo que el modelo encuentre un hiperplano óptimo para separar los datos en un espacio de mayor dimensión sin necesidad de transformas los datos a ese nuevo espacio.\n",
        "\n"
      ],
      "metadata": {
        "id": "h6bG7FFq84y4"
      }
    },
    {
      "cell_type": "markdown",
      "source": [
        "# Investigue sobre Random Forest y responda\n",
        "*   a. ¿Qué tipo de ensemble learning es este modelo?\n",
        "*   b. ¿Cuál es la idea general detrás de Random Forest?\n",
        "*   c. ¿Por qué se busca baja correlación entre los árboles de Random Forest?\n"
      ],
      "metadata": {
        "id": "Qk9zWhD26tv0"
      }
    },
    {
      "cell_type": "markdown",
      "source": [
        "\n",
        "\n",
        "*   a. El modelo que usa el random forest es el método bagging o embolsado, ya que emplea tanto el embolsado como la aleatoriedad de características para crear un bosque de árboles de decisión que no están correlacionados.\n",
        "\n",
        "*   b. La idea principal de Random Forest es combinar múltiples árboles de decisión independientes para mejorar la precisión. Cada árbol se entrena con un subconjunto aleatorio de los datos y solo se considera un subconjunto aleatorio de las características y al final las predicciones de todos los arboles se juntan para tener la mejor respuesta.\n",
        "\n",
        "*   c. La baja correlación entre los árboles es importante porque asegura que cada árbol aprenda patrones diferentes del conjunto de datos. Esto reduce el riesgo de que los errores de un árbol se repitan en otros, lo que mejora la precisión del modelo final.Al combinar árboles poco correlacionados, los errores individuales tienden a cancelarse, haciendo que el modelo sea más robusto y generalizable.\n",
        "\n"
      ],
      "metadata": {
        "id": "B0lHan9e-Dc2"
      }
    },
    {
      "cell_type": "markdown",
      "source": [
        "# Task 2 - Naive Bayes: Clasificador de mensajes Ham/Spam"
      ],
      "metadata": {
        "id": "bQyyr2G_6y2T"
      }
    },
    {
      "cell_type": "markdown",
      "source": [
        "Para las métricas, utlizamos precisión, recall y fscore debido a que el set dataset está desbalanceado\n",
        "Hay solamente 748 mensajes de spam mientras que hay 4819 mensajes de ham\n",
        "\n",
        "Manual:\n",
        "\n",
        "Precision: 0.9817\n",
        "Recall: 0.9811\n",
        "F1 Score: 0.9813\n",
        "\n",
        "Librerías:\n",
        "\n",
        "Precision: 0.9800\n",
        "Recall: 0.9802\n",
        "F1 Score: 0.9801\n",
        "\n",
        "La diferencia es casi nula, pero el modelo manual sobrepasa al modelo con librerías por una cantidad aproximada\n",
        "de 0.0010. Esto puede deverse a la diferencia entre la tokenización de nuestro modelo comparado al\n",
        "CountVectorizer() de scikit-learn. O tal vez debido a alguna diferencia en la implementación de Laplace\n",
        "comparado con el de scikit. Aunque, podría ser también algo tan simple como alguna optimización a\n",
        "los cálculos de números decimales que implemente scikit que cause la pequeña discrepacia. En general,\n",
        "ambos modelos están bastante similares en performance."
      ],
      "metadata": {
        "id": "CkkhTKaJHZYr"
      }
    },
    {
      "cell_type": "markdown",
      "source": [
        "# Task 3- Clasificación de Partidas de League of Legends"
      ],
      "metadata": {
        "id": "E2mUqCCr660_"
      }
    },
    {
      "cell_type": "markdown",
      "source": [
        "## 3.1 - Support Vector Machines: Clasificación de Partidas de League of Legends\n"
      ],
      "metadata": {
        "id": "U9Vt1g1x19Ca"
      }
    },
    {
      "cell_type": "markdown",
      "source": [
        "## Analisis Exploratorio"
      ],
      "metadata": {
        "id": "-IU0p8sQ6LLK"
      }
    },
    {
      "cell_type": "markdown",
      "source": [
        "Vamos a cargar todas las librerias a usar. **texto en negrita**"
      ],
      "metadata": {
        "id": "hR5N5ZMo6UoY"
      }
    },
    {
      "cell_type": "code",
      "source": [
        "import numpy as np\n",
        "import pandas as pd\n",
        "from sklearn.model_selection import train_test_split\n",
        "import matplotlib.pyplot as plt\n",
        "from sklearn import svm\n",
        "from sklearn.metrics import precision_recall_fscore_support,  f1_score, accuracy_score\n",
        "from sklearn.model_selection import GridSearchCV\n",
        "from sklearn.svm import SVC"
      ],
      "metadata": {
        "id": "OW572DX07QC0"
      },
      "execution_count": null,
      "outputs": []
    },
    {
      "cell_type": "markdown",
      "source": [
        "Ahora cargamos los datos"
      ],
      "metadata": {
        "id": "_joRkllJ60aL"
      }
    },
    {
      "cell_type": "code",
      "source": [
        "csv_file_path = './high_diamond_ranked_10min.csv'\n",
        "df = pd.read_csv(csv_file_path)"
      ],
      "metadata": {
        "id": "CWB5vW6S6WwZ"
      },
      "execution_count": null,
      "outputs": []
    },
    {
      "cell_type": "markdown",
      "source": [
        "Primero vamos a verificar que este balanceado"
      ],
      "metadata": {
        "id": "3c8e1wSK7z2s"
      }
    },
    {
      "cell_type": "markdown",
      "source": [
        "Se puede ver que estan balanceados pues blueWins tiene 4949 y 4930 de ceros y unos"
      ],
      "metadata": {
        "id": "jKTvWN9TGg0_"
      }
    },
    {
      "cell_type": "code",
      "source": [
        "ceros = df.loc[df['blueWins'] == 0]\n",
        "unos = df.loc[df['blueWins'] == 1]\n",
        "print(ceros[\"blueWins\"].count())\n",
        "print(unos[\"blueWins\"].count())"
      ],
      "metadata": {
        "colab": {
          "base_uri": "https://localhost:8080/"
        },
        "id": "0hLncEciGaR7",
        "outputId": "85900792-7bd0-45fa-f2dc-1ec056ce3cc1"
      },
      "execution_count": null,
      "outputs": [
        {
          "output_type": "stream",
          "name": "stdout",
          "text": [
            "4949\n",
            "4930\n"
          ]
        }
      ]
    },
    {
      "cell_type": "markdown",
      "source": [
        "### Eleccion de Variables"
      ],
      "metadata": {
        "id": "r9RrlOiLGjjv"
      }
    },
    {
      "cell_type": "markdown",
      "source": [
        "Eligiremos el blueAvgLevel, blueKills.  \n",
        "\n",
        "Vamos a usar estas 2 debido a que se intuye que tener un nivel bueno entre los jugadores.\n",
        "\n",
        "Y tambien al tener muchas muertes causadas pueden provocar que gananen la partida"
      ],
      "metadata": {
        "id": "5MhoaWJ7GoOg"
      }
    },
    {
      "cell_type": "markdown",
      "source": [
        "Aqui estan el rango de valores"
      ],
      "metadata": {
        "id": "uXUFe4-nG1sE"
      }
    },
    {
      "cell_type": "code",
      "source": [
        "print(f\"Promedio de nivel de los Azules {df['blueAvgLevel'].min()} - {df['blueAvgLevel'].max()}\")\n",
        "print(f\"Muertes causadas por los Azules {df['blueKills'].min()} - {df['blueKills'].max()}\")"
      ],
      "metadata": {
        "colab": {
          "base_uri": "https://localhost:8080/"
        },
        "id": "tlXoQsWrG3Z3",
        "outputId": "8e305961-7bf4-4b7e-ca0d-5b72d182a658"
      },
      "execution_count": null,
      "outputs": [
        {
          "output_type": "stream",
          "name": "stdout",
          "text": [
            "Promedio de nivel de los Azules 4.6 - 8.0\n",
            "Muertes causadas por los Azules 0 - 22\n"
          ]
        }
      ]
    },
    {
      "cell_type": "markdown",
      "source": [
        "No es necesario escalarlas ni mapearlas , tampoco normalizarlas. Por lo que se usara como estan"
      ],
      "metadata": {
        "id": "QXddN3t9HQBn"
      }
    },
    {
      "cell_type": "markdown",
      "source": [
        "## PARTE 3.2 Support Vector Machines  Clasificación de Partidas de League of Legends"
      ],
      "metadata": {
        "id": "KZL8yfCyHeKT"
      }
    },
    {
      "cell_type": "markdown",
      "source": [
        "Vamos a dividir en 3 test , entrenamiento y"
      ],
      "metadata": {
        "id": "pTO6gl6vHqKb"
      }
    },
    {
      "cell_type": "code",
      "source": [
        "X = df[['blueAvgLevel','blueKills']].values\n",
        "Y = df['blueWins'].values\n",
        "\n",
        "X_train, X_test, y_train, y_test = train_test_split(X, Y, test_size=0.1, random_state=42)\n",
        "X_train, X_val, y_train, y_val = train_test_split(X_train, y_train, test_size=0.1, random_state=42)\n"
      ],
      "metadata": {
        "id": "-k-ZObI7Hr5n"
      },
      "execution_count": null,
      "outputs": []
    },
    {
      "cell_type": "markdown",
      "source": [
        "### Implementacion Clase"
      ],
      "metadata": {
        "id": "lY4hnjIJH_QP"
      }
    },
    {
      "cell_type": "markdown",
      "source": [
        "Vamos a definir una classe llama SVM_Manual en donde como podemos ver tiene 2 deltas, que sirven al momento de elegir sobre la condicion el gradiente a usar."
      ],
      "metadata": {
        "id": "SRtCysNjIDan"
      }
    },
    {
      "cell_type": "code",
      "source": [
        "class SVM_manual ():\n",
        "  def __init__(self, learning_rate , epocas, lambda_par):\n",
        "    self.learning_rate = learning_rate\n",
        "    self.epocas = epocas\n",
        "    self.lambda_par = lambda_par\n",
        "    self.w = None\n",
        "    self.b = None\n",
        "\n",
        "  def delta_j_w_1(self, w):\n",
        "    return self.learning_rate * (2 * self.lambda_par * w)\n",
        "\n",
        "  def delta_j_w_2(self, w, x_i, y_i):\n",
        "    return self.learning_rate * (2 * self.lambda_par * w - np.dot(x_i, y_i))\n",
        "\n",
        "  def algoritmo_sin_librerias_fit(self, X, Y):\n",
        "    _, n_s = X.shape\n",
        "\n",
        "    y = np.where(Y <= 0, -1, 1)\n",
        "    self.w = np.zeros(n_s) #llenamos el vector de pesos con 0's\n",
        "    self.b = 0\n",
        "\n",
        "    for i in range(self.epocas):\n",
        "       for j, x_i in enumerate(X):\n",
        "        condition = y[j] * (np.dot(x_i, self.w) - self.b) >= 1\n",
        "        if condition:\n",
        "          self.w -= self.delta_j_w_1(self.w)\n",
        "        else:\n",
        "          self.w -= self.delta_j_w_2(w=self.w, x_i=x_i, y_i=y[j])\n",
        "          self.b -=  self.learning_rate * y[j]\n",
        "       if i % 100 == 0:\n",
        "         print(f\"Epoca actual {i}\")\n",
        "\n",
        "  def algoritmo_sin_librerias_prediccion(self, X_test):\n",
        "     y_predichas = np.dot(X_test, self.w) - self.b\n",
        "     return np.sign(y_predichas)"
      ],
      "metadata": {
        "id": "xfBL0mAqINZ5"
      },
      "execution_count": null,
      "outputs": []
    },
    {
      "cell_type": "markdown",
      "source": [
        "### Tunning"
      ],
      "metadata": {
        "id": "oMoVLIrlHwBn"
      }
    },
    {
      "cell_type": "markdown",
      "source": [
        "Primero con 10% de los datos vamos a hacer Tunnig en ambos casos , para ello usaremos una clase creada llamada tunning que lo que hace es ir por un array de elementos para las hipervariables"
      ],
      "metadata": {
        "id": "HrpVyYITHyd7"
      }
    },
    {
      "cell_type": "code",
      "source": [
        "class Tunning ():\n",
        "  def __init__(self, X_val , y_val, X_Train, Y_train):\n",
        "    self.learning_rates = [0.0001, 0.001, 0.01]\n",
        "    self.epocas_options = [500, 1000, 2000]\n",
        "    self.X_val = X_val\n",
        "    self.y_val =  np.where( y_val <= 0, -1, 1)\n",
        "    self.X_train = X_Train\n",
        "    self.y_train = Y_train\n",
        "    self.lambda_options = [0.001, 0.01, 0.1]\n",
        "    self.best_acc = 0\n",
        "    self.best_params = None\n",
        "    self.best_model = None\n",
        "\n",
        "    self.param_grid = {'C': [0.1, 1, 10, 100, 1000],\n",
        "              'gamma': [1, 0.1, 0.01, 0.001, 0.0001],\n",
        "              'kernel': ['rbf']}\n",
        "\n",
        "  def encontrar_variables(self):\n",
        "    for lr in self.learning_rates:\n",
        "      for ep in self.epocas_options:\n",
        "          for lamb in self.lambda_options:\n",
        "\n",
        "              model = SVM_manual(learning_rate=lr, epocas=ep, lambda_par=lamb)\n",
        "              model.algoritmo_sin_librerias_fit(X=self.X_train, Y=self.y_train)\n",
        "\n",
        "              y_pred = model.algoritmo_sin_librerias_prediccion(X_test=self.X_val)\n",
        "              acc = accuracy_score(self.y_val, y_pred)\n",
        "\n",
        "              print(f\"Tuning Manual - lr: {lr}, ep: {ep}, lambda: {lamb} -> Acc: {acc:.4f}\")\n",
        "\n",
        "              # Guardar el mejor modelo\n",
        "              if acc > self.best_acc:\n",
        "                  self.best_acc = acc\n",
        "                  self.best_params = (lr, ep, lamb)\n",
        "                  self.best_model = model"
      ],
      "metadata": {
        "id": "vDNoJzonIjaP"
      },
      "execution_count": null,
      "outputs": []
    },
    {
      "cell_type": "markdown",
      "source": [
        "Ahora vamos a ejecutarlo con las variables que tenemos"
      ],
      "metadata": {
        "id": "pfL1bSOFI88T"
      }
    },
    {
      "cell_type": "code",
      "source": [
        "#   tunn = Tunning(X_val=X_val, X_Train=X_train, Y_train=y_train, y_val=y_val)\n",
        "#   tunn.encontrar_variables()"
      ],
      "metadata": {
        "id": "I7T991iuJB6b"
      },
      "execution_count": null,
      "outputs": []
    },
    {
      "cell_type": "markdown",
      "source": [
        "\n",
        "\n",
        "> Estan desabilitadas ya que se tardan un monton en encontrar pero se encontro que lr: 0.001, ep: 2000, lambda: 0.01 -> fue el mejor al tener un acurrancy de 0.6775\n",
        "\n"
      ],
      "metadata": {
        "id": "L-xa799lJD3r"
      }
    },
    {
      "cell_type": "markdown",
      "source": [
        "Ahora aplicamos tunning al de las librerias usando gridsearch"
      ],
      "metadata": {
        "id": "Ewg7WdpfJr-L"
      }
    },
    {
      "cell_type": "code",
      "source": [
        "param_grid = {'C': [0.1, 1, 10, 100, 1000],\n",
        "              'gamma': [1, 0.1, 0.01, 0.001, 0.0001],\n",
        "              'kernel': ['rbf']}\n",
        "\n",
        "grid = GridSearchCV(SVC(), param_grid, refit = True, verbose = 3)\n",
        "y_val_Trained = np.where(y_val <= 0, -1, 1)\n",
        "# fitting the model for grid search\n",
        "grid.fit(X_val, y_val)\n",
        "\n",
        "#iprimos los hiperparametros.\n",
        "print(grid.best_params_)"
      ],
      "metadata": {
        "colab": {
          "base_uri": "https://localhost:8080/"
        },
        "id": "zudbkXYdJzBD",
        "outputId": "4a8861ee-78e0-4523-c003-80ee5692c1a1"
      },
      "execution_count": null,
      "outputs": [
        {
          "output_type": "stream",
          "name": "stdout",
          "text": [
            "Fitting 5 folds for each of 25 candidates, totalling 125 fits\n",
            "[CV 1/5] END ........C=0.1, gamma=1, kernel=rbf;, score=0.680 total time=   0.0s\n",
            "[CV 2/5] END ........C=0.1, gamma=1, kernel=rbf;, score=0.713 total time=   0.0s\n",
            "[CV 3/5] END ........C=0.1, gamma=1, kernel=rbf;, score=0.635 total time=   0.0s\n",
            "[CV 4/5] END ........C=0.1, gamma=1, kernel=rbf;, score=0.640 total time=   0.0s\n",
            "[CV 5/5] END ........C=0.1, gamma=1, kernel=rbf;, score=0.640 total time=   0.0s\n",
            "[CV 1/5] END ......C=0.1, gamma=0.1, kernel=rbf;, score=0.674 total time=   0.0s\n",
            "[CV 2/5] END ......C=0.1, gamma=0.1, kernel=rbf;, score=0.713 total time=   0.0s\n",
            "[CV 3/5] END ......C=0.1, gamma=0.1, kernel=rbf;, score=0.624 total time=   0.0s\n",
            "[CV 4/5] END ......C=0.1, gamma=0.1, kernel=rbf;, score=0.652 total time=   0.0s\n",
            "[CV 5/5] END ......C=0.1, gamma=0.1, kernel=rbf;, score=0.652 total time=   0.0s\n",
            "[CV 1/5] END .....C=0.1, gamma=0.01, kernel=rbf;, score=0.652 total time=   0.0s\n",
            "[CV 2/5] END .....C=0.1, gamma=0.01, kernel=rbf;, score=0.702 total time=   0.0s\n",
            "[CV 3/5] END .....C=0.1, gamma=0.01, kernel=rbf;, score=0.573 total time=   0.0s\n",
            "[CV 4/5] END .....C=0.1, gamma=0.01, kernel=rbf;, score=0.674 total time=   0.0s\n",
            "[CV 5/5] END .....C=0.1, gamma=0.01, kernel=rbf;, score=0.590 total time=   0.0s\n",
            "[CV 1/5] END ....C=0.1, gamma=0.001, kernel=rbf;, score=0.596 total time=   0.0s\n",
            "[CV 2/5] END ....C=0.1, gamma=0.001, kernel=rbf;, score=0.646 total time=   0.0s\n",
            "[CV 3/5] END ....C=0.1, gamma=0.001, kernel=rbf;, score=0.579 total time=   0.0s\n",
            "[CV 4/5] END ....C=0.1, gamma=0.001, kernel=rbf;, score=0.618 total time=   0.0s\n",
            "[CV 5/5] END ....C=0.1, gamma=0.001, kernel=rbf;, score=0.607 total time=   0.0s\n",
            "[CV 1/5] END ...C=0.1, gamma=0.0001, kernel=rbf;, score=0.506 total time=   0.0s\n",
            "[CV 2/5] END ...C=0.1, gamma=0.0001, kernel=rbf;, score=0.506 total time=   0.0s\n",
            "[CV 3/5] END ...C=0.1, gamma=0.0001, kernel=rbf;, score=0.506 total time=   0.0s\n",
            "[CV 4/5] END ...C=0.1, gamma=0.0001, kernel=rbf;, score=0.506 total time=   0.0s\n",
            "[CV 5/5] END ...C=0.1, gamma=0.0001, kernel=rbf;, score=0.500 total time=   0.0s\n",
            "[CV 1/5] END ..........C=1, gamma=1, kernel=rbf;, score=0.685 total time=   0.0s\n",
            "[CV 2/5] END ..........C=1, gamma=1, kernel=rbf;, score=0.708 total time=   0.0s\n",
            "[CV 3/5] END ..........C=1, gamma=1, kernel=rbf;, score=0.640 total time=   0.0s\n",
            "[CV 4/5] END ..........C=1, gamma=1, kernel=rbf;, score=0.640 total time=   0.0s\n",
            "[CV 5/5] END ..........C=1, gamma=1, kernel=rbf;, score=0.652 total time=   0.0s\n",
            "[CV 1/5] END ........C=1, gamma=0.1, kernel=rbf;, score=0.674 total time=   0.0s\n",
            "[CV 2/5] END ........C=1, gamma=0.1, kernel=rbf;, score=0.713 total time=   0.0s\n",
            "[CV 3/5] END ........C=1, gamma=0.1, kernel=rbf;, score=0.607 total time=   0.0s\n",
            "[CV 4/5] END ........C=1, gamma=0.1, kernel=rbf;, score=0.674 total time=   0.0s\n",
            "[CV 5/5] END ........C=1, gamma=0.1, kernel=rbf;, score=0.646 total time=   0.0s\n",
            "[CV 1/5] END .......C=1, gamma=0.01, kernel=rbf;, score=0.663 total time=   0.0s\n",
            "[CV 2/5] END .......C=1, gamma=0.01, kernel=rbf;, score=0.736 total time=   0.0s\n",
            "[CV 3/5] END .......C=1, gamma=0.01, kernel=rbf;, score=0.607 total time=   0.0s\n",
            "[CV 4/5] END .......C=1, gamma=0.01, kernel=rbf;, score=0.680 total time=   0.0s\n",
            "[CV 5/5] END .......C=1, gamma=0.01, kernel=rbf;, score=0.624 total time=   0.0s\n",
            "[CV 1/5] END ......C=1, gamma=0.001, kernel=rbf;, score=0.652 total time=   0.0s\n",
            "[CV 2/5] END ......C=1, gamma=0.001, kernel=rbf;, score=0.702 total time=   0.0s\n",
            "[CV 3/5] END ......C=1, gamma=0.001, kernel=rbf;, score=0.573 total time=   0.0s\n",
            "[CV 4/5] END ......C=1, gamma=0.001, kernel=rbf;, score=0.669 total time=   0.0s\n",
            "[CV 5/5] END ......C=1, gamma=0.001, kernel=rbf;, score=0.590 total time=   0.0s\n",
            "[CV 1/5] END .....C=1, gamma=0.0001, kernel=rbf;, score=0.596 total time=   0.0s\n",
            "[CV 2/5] END .....C=1, gamma=0.0001, kernel=rbf;, score=0.646 total time=   0.0s\n",
            "[CV 3/5] END .....C=1, gamma=0.0001, kernel=rbf;, score=0.590 total time=   0.0s\n",
            "[CV 4/5] END .....C=1, gamma=0.0001, kernel=rbf;, score=0.618 total time=   0.0s\n",
            "[CV 5/5] END .....C=1, gamma=0.0001, kernel=rbf;, score=0.607 total time=   0.0s\n",
            "[CV 1/5] END .........C=10, gamma=1, kernel=rbf;, score=0.669 total time=   0.0s\n",
            "[CV 2/5] END .........C=10, gamma=1, kernel=rbf;, score=0.713 total time=   0.1s\n",
            "[CV 3/5] END .........C=10, gamma=1, kernel=rbf;, score=0.629 total time=   0.0s\n",
            "[CV 4/5] END .........C=10, gamma=1, kernel=rbf;, score=0.663 total time=   0.0s\n",
            "[CV 5/5] END .........C=10, gamma=1, kernel=rbf;, score=0.646 total time=   0.0s\n",
            "[CV 1/5] END .......C=10, gamma=0.1, kernel=rbf;, score=0.674 total time=   0.0s\n",
            "[CV 2/5] END .......C=10, gamma=0.1, kernel=rbf;, score=0.708 total time=   0.0s\n",
            "[CV 3/5] END .......C=10, gamma=0.1, kernel=rbf;, score=0.618 total time=   0.0s\n",
            "[CV 4/5] END .......C=10, gamma=0.1, kernel=rbf;, score=0.691 total time=   0.0s\n",
            "[CV 5/5] END .......C=10, gamma=0.1, kernel=rbf;, score=0.640 total time=   0.0s\n",
            "[CV 1/5] END ......C=10, gamma=0.01, kernel=rbf;, score=0.674 total time=   0.0s\n",
            "[CV 2/5] END ......C=10, gamma=0.01, kernel=rbf;, score=0.708 total time=   0.0s\n",
            "[CV 3/5] END ......C=10, gamma=0.01, kernel=rbf;, score=0.618 total time=   0.0s\n",
            "[CV 4/5] END ......C=10, gamma=0.01, kernel=rbf;, score=0.691 total time=   0.0s\n",
            "[CV 5/5] END ......C=10, gamma=0.01, kernel=rbf;, score=0.652 total time=   0.0s\n",
            "[CV 1/5] END .....C=10, gamma=0.001, kernel=rbf;, score=0.669 total time=   0.0s\n",
            "[CV 2/5] END .....C=10, gamma=0.001, kernel=rbf;, score=0.736 total time=   0.0s\n",
            "[CV 3/5] END .....C=10, gamma=0.001, kernel=rbf;, score=0.607 total time=   0.0s\n",
            "[CV 4/5] END .....C=10, gamma=0.001, kernel=rbf;, score=0.680 total time=   0.0s\n",
            "[CV 5/5] END .....C=10, gamma=0.001, kernel=rbf;, score=0.629 total time=   0.0s\n",
            "[CV 1/5] END ....C=10, gamma=0.0001, kernel=rbf;, score=0.652 total time=   0.0s\n",
            "[CV 2/5] END ....C=10, gamma=0.0001, kernel=rbf;, score=0.702 total time=   0.0s\n",
            "[CV 3/5] END ....C=10, gamma=0.0001, kernel=rbf;, score=0.573 total time=   0.0s\n",
            "[CV 4/5] END ....C=10, gamma=0.0001, kernel=rbf;, score=0.669 total time=   0.0s\n",
            "[CV 5/5] END ....C=10, gamma=0.0001, kernel=rbf;, score=0.590 total time=   0.0s\n",
            "[CV 1/5] END ........C=100, gamma=1, kernel=rbf;, score=0.674 total time=   0.0s\n",
            "[CV 2/5] END ........C=100, gamma=1, kernel=rbf;, score=0.663 total time=   0.0s\n",
            "[CV 3/5] END ........C=100, gamma=1, kernel=rbf;, score=0.640 total time=   0.0s\n",
            "[CV 4/5] END ........C=100, gamma=1, kernel=rbf;, score=0.652 total time=   0.1s\n",
            "[CV 5/5] END ........C=100, gamma=1, kernel=rbf;, score=0.635 total time=   0.1s\n",
            "[CV 1/5] END ......C=100, gamma=0.1, kernel=rbf;, score=0.674 total time=   0.0s\n",
            "[CV 2/5] END ......C=100, gamma=0.1, kernel=rbf;, score=0.702 total time=   0.1s\n",
            "[CV 3/5] END ......C=100, gamma=0.1, kernel=rbf;, score=0.612 total time=   0.0s\n",
            "[CV 4/5] END ......C=100, gamma=0.1, kernel=rbf;, score=0.680 total time=   0.1s\n",
            "[CV 5/5] END ......C=100, gamma=0.1, kernel=rbf;, score=0.640 total time=   0.1s\n",
            "[CV 1/5] END .....C=100, gamma=0.01, kernel=rbf;, score=0.669 total time=   0.0s\n",
            "[CV 2/5] END .....C=100, gamma=0.01, kernel=rbf;, score=0.708 total time=   0.0s\n",
            "[CV 3/5] END .....C=100, gamma=0.01, kernel=rbf;, score=0.618 total time=   0.0s\n",
            "[CV 4/5] END .....C=100, gamma=0.01, kernel=rbf;, score=0.691 total time=   0.0s\n",
            "[CV 5/5] END .....C=100, gamma=0.01, kernel=rbf;, score=0.652 total time=   0.0s\n",
            "[CV 1/5] END ....C=100, gamma=0.001, kernel=rbf;, score=0.674 total time=   0.0s\n",
            "[CV 2/5] END ....C=100, gamma=0.001, kernel=rbf;, score=0.708 total time=   0.0s\n",
            "[CV 3/5] END ....C=100, gamma=0.001, kernel=rbf;, score=0.612 total time=   0.0s\n",
            "[CV 4/5] END ....C=100, gamma=0.001, kernel=rbf;, score=0.691 total time=   0.0s\n",
            "[CV 5/5] END ....C=100, gamma=0.001, kernel=rbf;, score=0.635 total time=   0.0s\n",
            "[CV 1/5] END ...C=100, gamma=0.0001, kernel=rbf;, score=0.669 total time=   0.0s\n",
            "[CV 2/5] END ...C=100, gamma=0.0001, kernel=rbf;, score=0.736 total time=   0.0s\n",
            "[CV 3/5] END ...C=100, gamma=0.0001, kernel=rbf;, score=0.607 total time=   0.0s\n",
            "[CV 4/5] END ...C=100, gamma=0.0001, kernel=rbf;, score=0.680 total time=   0.0s\n",
            "[CV 5/5] END ...C=100, gamma=0.0001, kernel=rbf;, score=0.629 total time=   0.0s\n",
            "[CV 1/5] END .......C=1000, gamma=1, kernel=rbf;, score=0.674 total time=   0.1s\n",
            "[CV 2/5] END .......C=1000, gamma=1, kernel=rbf;, score=0.657 total time=   0.2s\n",
            "[CV 3/5] END .......C=1000, gamma=1, kernel=rbf;, score=0.624 total time=   0.1s\n",
            "[CV 4/5] END .......C=1000, gamma=1, kernel=rbf;, score=0.652 total time=   0.3s\n",
            "[CV 5/5] END .......C=1000, gamma=1, kernel=rbf;, score=0.635 total time=   0.1s\n",
            "[CV 1/5] END .....C=1000, gamma=0.1, kernel=rbf;, score=0.691 total time=   0.2s\n",
            "[CV 2/5] END .....C=1000, gamma=0.1, kernel=rbf;, score=0.708 total time=   0.5s\n",
            "[CV 3/5] END .....C=1000, gamma=0.1, kernel=rbf;, score=0.607 total time=   0.2s\n",
            "[CV 4/5] END .....C=1000, gamma=0.1, kernel=rbf;, score=0.697 total time=   0.4s\n",
            "[CV 5/5] END .....C=1000, gamma=0.1, kernel=rbf;, score=0.635 total time=   0.2s\n",
            "[CV 1/5] END ....C=1000, gamma=0.01, kernel=rbf;, score=0.674 total time=   0.1s\n",
            "[CV 2/5] END ....C=1000, gamma=0.01, kernel=rbf;, score=0.713 total time=   0.1s\n",
            "[CV 3/5] END ....C=1000, gamma=0.01, kernel=rbf;, score=0.618 total time=   0.1s\n",
            "[CV 4/5] END ....C=1000, gamma=0.01, kernel=rbf;, score=0.691 total time=   0.1s\n",
            "[CV 5/5] END ....C=1000, gamma=0.01, kernel=rbf;, score=0.652 total time=   0.0s\n",
            "[CV 1/5] END ...C=1000, gamma=0.001, kernel=rbf;, score=0.674 total time=   0.0s\n",
            "[CV 2/5] END ...C=1000, gamma=0.001, kernel=rbf;, score=0.702 total time=   0.0s\n",
            "[CV 3/5] END ...C=1000, gamma=0.001, kernel=rbf;, score=0.612 total time=   0.0s\n",
            "[CV 4/5] END ...C=1000, gamma=0.001, kernel=rbf;, score=0.708 total time=   0.0s\n",
            "[CV 5/5] END ...C=1000, gamma=0.001, kernel=rbf;, score=0.646 total time=   0.0s\n",
            "[CV 1/5] END ..C=1000, gamma=0.0001, kernel=rbf;, score=0.674 total time=   0.0s\n",
            "[CV 2/5] END ..C=1000, gamma=0.0001, kernel=rbf;, score=0.708 total time=   0.0s\n",
            "[CV 3/5] END ..C=1000, gamma=0.0001, kernel=rbf;, score=0.612 total time=   0.0s\n",
            "[CV 4/5] END ..C=1000, gamma=0.0001, kernel=rbf;, score=0.697 total time=   0.0s\n",
            "[CV 5/5] END ..C=1000, gamma=0.0001, kernel=rbf;, score=0.635 total time=   0.0s\n",
            "{'C': 1000, 'gamma': 0.01, 'kernel': 'rbf'}\n"
          ]
        }
      ]
    },
    {
      "cell_type": "markdown",
      "source": [
        "\n",
        "\n",
        "> Como puedes ver tenemos como hiperparametros finales C = 1000 , y gamma = 0.01\n",
        "\n"
      ],
      "metadata": {
        "id": "yCq9mn10KhzA"
      }
    },
    {
      "cell_type": "markdown",
      "source": [
        "#### Variables a hacer tunning"
      ],
      "metadata": {
        "id": "A9FJoYLHJDOP"
      }
    },
    {
      "cell_type": "markdown",
      "source": [
        "Nosotros aplicamos al learning rate, a las iteraciones y al lambda tunning ya que son estas las variables, Como consideracion adicinal tuvimos que tomar en cuenta la manera en como se estaba haciendo un mapeo del vector y . Ademas que tuvimos que ajustar 3 valores distintos para los hiperparametros. Por ende se llega a tardar mucho el algoritmo en terminar"
      ],
      "metadata": {
        "id": "AVFgJ5jwJScY"
      }
    },
    {
      "cell_type": "markdown",
      "source": [
        "###  ENTRENAMIENTO"
      ],
      "metadata": {
        "id": "J4cVy-uuKJVc"
      }
    },
    {
      "cell_type": "markdown",
      "source": [
        "Ahora lo entrenaremos usando los mejores parametros encontrados antes"
      ],
      "metadata": {
        "id": "Qzrfvm4xKMNb"
      }
    },
    {
      "cell_type": "markdown",
      "source": [
        "#### Manual"
      ],
      "metadata": {
        "id": "sZWQO73DKPAL"
      }
    },
    {
      "cell_type": "code",
      "source": [
        "learning_rate = 0.001\n",
        "epocas = 1000\n",
        "lambda_par =0.01\n",
        "\n",
        "svm_manual = SVM_manual(learning_rate=learning_rate, epocas=epocas, lambda_par=lambda_par)\n",
        "svm_manual.algoritmo_sin_librerias_fit(X=X_train, Y=y_train)"
      ],
      "metadata": {
        "colab": {
          "base_uri": "https://localhost:8080/"
        },
        "id": "yhCrngPuKRVf",
        "outputId": "58d161ff-3562-48a6-ac86-bd16964d12d4"
      },
      "execution_count": null,
      "outputs": [
        {
          "output_type": "stream",
          "name": "stdout",
          "text": [
            "Epoca actual 0\n",
            "Epoca actual 100\n",
            "Epoca actual 200\n",
            "Epoca actual 300\n",
            "Epoca actual 400\n",
            "Epoca actual 500\n",
            "Epoca actual 600\n",
            "Epoca actual 700\n",
            "Epoca actual 800\n",
            "Epoca actual 900\n"
          ]
        }
      ]
    },
    {
      "cell_type": "markdown",
      "source": [
        "### Con librerias"
      ],
      "metadata": {
        "id": "RYD4e6GSKzUT"
      }
    },
    {
      "cell_type": "code",
      "source": [
        "y_trained_parametrized = np.where(y_train <= 0, -1, 1 )\n",
        "clf = svm.SVC(C=1000, gamma=0.01, kernel='rbf')\n",
        "clf.fit(X_train, y_trained_parametrized)"
      ],
      "metadata": {
        "colab": {
          "base_uri": "https://localhost:8080/",
          "height": 80
        },
        "id": "aPXOtnOGK1Oj",
        "outputId": "4e01daec-3d2a-462e-a0f1-29885c34d114"
      },
      "execution_count": null,
      "outputs": [
        {
          "output_type": "execute_result",
          "data": {
            "text/plain": [
              "SVC(C=1000, gamma=0.01)"
            ],
            "text/html": [
              "<style>#sk-container-id-1 {\n",
              "  /* Definition of color scheme common for light and dark mode */\n",
              "  --sklearn-color-text: #000;\n",
              "  --sklearn-color-text-muted: #666;\n",
              "  --sklearn-color-line: gray;\n",
              "  /* Definition of color scheme for unfitted estimators */\n",
              "  --sklearn-color-unfitted-level-0: #fff5e6;\n",
              "  --sklearn-color-unfitted-level-1: #f6e4d2;\n",
              "  --sklearn-color-unfitted-level-2: #ffe0b3;\n",
              "  --sklearn-color-unfitted-level-3: chocolate;\n",
              "  /* Definition of color scheme for fitted estimators */\n",
              "  --sklearn-color-fitted-level-0: #f0f8ff;\n",
              "  --sklearn-color-fitted-level-1: #d4ebff;\n",
              "  --sklearn-color-fitted-level-2: #b3dbfd;\n",
              "  --sklearn-color-fitted-level-3: cornflowerblue;\n",
              "\n",
              "  /* Specific color for light theme */\n",
              "  --sklearn-color-text-on-default-background: var(--sg-text-color, var(--theme-code-foreground, var(--jp-content-font-color1, black)));\n",
              "  --sklearn-color-background: var(--sg-background-color, var(--theme-background, var(--jp-layout-color0, white)));\n",
              "  --sklearn-color-border-box: var(--sg-text-color, var(--theme-code-foreground, var(--jp-content-font-color1, black)));\n",
              "  --sklearn-color-icon: #696969;\n",
              "\n",
              "  @media (prefers-color-scheme: dark) {\n",
              "    /* Redefinition of color scheme for dark theme */\n",
              "    --sklearn-color-text-on-default-background: var(--sg-text-color, var(--theme-code-foreground, var(--jp-content-font-color1, white)));\n",
              "    --sklearn-color-background: var(--sg-background-color, var(--theme-background, var(--jp-layout-color0, #111)));\n",
              "    --sklearn-color-border-box: var(--sg-text-color, var(--theme-code-foreground, var(--jp-content-font-color1, white)));\n",
              "    --sklearn-color-icon: #878787;\n",
              "  }\n",
              "}\n",
              "\n",
              "#sk-container-id-1 {\n",
              "  color: var(--sklearn-color-text);\n",
              "}\n",
              "\n",
              "#sk-container-id-1 pre {\n",
              "  padding: 0;\n",
              "}\n",
              "\n",
              "#sk-container-id-1 input.sk-hidden--visually {\n",
              "  border: 0;\n",
              "  clip: rect(1px 1px 1px 1px);\n",
              "  clip: rect(1px, 1px, 1px, 1px);\n",
              "  height: 1px;\n",
              "  margin: -1px;\n",
              "  overflow: hidden;\n",
              "  padding: 0;\n",
              "  position: absolute;\n",
              "  width: 1px;\n",
              "}\n",
              "\n",
              "#sk-container-id-1 div.sk-dashed-wrapped {\n",
              "  border: 1px dashed var(--sklearn-color-line);\n",
              "  margin: 0 0.4em 0.5em 0.4em;\n",
              "  box-sizing: border-box;\n",
              "  padding-bottom: 0.4em;\n",
              "  background-color: var(--sklearn-color-background);\n",
              "}\n",
              "\n",
              "#sk-container-id-1 div.sk-container {\n",
              "  /* jupyter's `normalize.less` sets `[hidden] { display: none; }`\n",
              "     but bootstrap.min.css set `[hidden] { display: none !important; }`\n",
              "     so we also need the `!important` here to be able to override the\n",
              "     default hidden behavior on the sphinx rendered scikit-learn.org.\n",
              "     See: https://github.com/scikit-learn/scikit-learn/issues/21755 */\n",
              "  display: inline-block !important;\n",
              "  position: relative;\n",
              "}\n",
              "\n",
              "#sk-container-id-1 div.sk-text-repr-fallback {\n",
              "  display: none;\n",
              "}\n",
              "\n",
              "div.sk-parallel-item,\n",
              "div.sk-serial,\n",
              "div.sk-item {\n",
              "  /* draw centered vertical line to link estimators */\n",
              "  background-image: linear-gradient(var(--sklearn-color-text-on-default-background), var(--sklearn-color-text-on-default-background));\n",
              "  background-size: 2px 100%;\n",
              "  background-repeat: no-repeat;\n",
              "  background-position: center center;\n",
              "}\n",
              "\n",
              "/* Parallel-specific style estimator block */\n",
              "\n",
              "#sk-container-id-1 div.sk-parallel-item::after {\n",
              "  content: \"\";\n",
              "  width: 100%;\n",
              "  border-bottom: 2px solid var(--sklearn-color-text-on-default-background);\n",
              "  flex-grow: 1;\n",
              "}\n",
              "\n",
              "#sk-container-id-1 div.sk-parallel {\n",
              "  display: flex;\n",
              "  align-items: stretch;\n",
              "  justify-content: center;\n",
              "  background-color: var(--sklearn-color-background);\n",
              "  position: relative;\n",
              "}\n",
              "\n",
              "#sk-container-id-1 div.sk-parallel-item {\n",
              "  display: flex;\n",
              "  flex-direction: column;\n",
              "}\n",
              "\n",
              "#sk-container-id-1 div.sk-parallel-item:first-child::after {\n",
              "  align-self: flex-end;\n",
              "  width: 50%;\n",
              "}\n",
              "\n",
              "#sk-container-id-1 div.sk-parallel-item:last-child::after {\n",
              "  align-self: flex-start;\n",
              "  width: 50%;\n",
              "}\n",
              "\n",
              "#sk-container-id-1 div.sk-parallel-item:only-child::after {\n",
              "  width: 0;\n",
              "}\n",
              "\n",
              "/* Serial-specific style estimator block */\n",
              "\n",
              "#sk-container-id-1 div.sk-serial {\n",
              "  display: flex;\n",
              "  flex-direction: column;\n",
              "  align-items: center;\n",
              "  background-color: var(--sklearn-color-background);\n",
              "  padding-right: 1em;\n",
              "  padding-left: 1em;\n",
              "}\n",
              "\n",
              "\n",
              "/* Toggleable style: style used for estimator/Pipeline/ColumnTransformer box that is\n",
              "clickable and can be expanded/collapsed.\n",
              "- Pipeline and ColumnTransformer use this feature and define the default style\n",
              "- Estimators will overwrite some part of the style using the `sk-estimator` class\n",
              "*/\n",
              "\n",
              "/* Pipeline and ColumnTransformer style (default) */\n",
              "\n",
              "#sk-container-id-1 div.sk-toggleable {\n",
              "  /* Default theme specific background. It is overwritten whether we have a\n",
              "  specific estimator or a Pipeline/ColumnTransformer */\n",
              "  background-color: var(--sklearn-color-background);\n",
              "}\n",
              "\n",
              "/* Toggleable label */\n",
              "#sk-container-id-1 label.sk-toggleable__label {\n",
              "  cursor: pointer;\n",
              "  display: flex;\n",
              "  width: 100%;\n",
              "  margin-bottom: 0;\n",
              "  padding: 0.5em;\n",
              "  box-sizing: border-box;\n",
              "  text-align: center;\n",
              "  align-items: start;\n",
              "  justify-content: space-between;\n",
              "  gap: 0.5em;\n",
              "}\n",
              "\n",
              "#sk-container-id-1 label.sk-toggleable__label .caption {\n",
              "  font-size: 0.6rem;\n",
              "  font-weight: lighter;\n",
              "  color: var(--sklearn-color-text-muted);\n",
              "}\n",
              "\n",
              "#sk-container-id-1 label.sk-toggleable__label-arrow:before {\n",
              "  /* Arrow on the left of the label */\n",
              "  content: \"▸\";\n",
              "  float: left;\n",
              "  margin-right: 0.25em;\n",
              "  color: var(--sklearn-color-icon);\n",
              "}\n",
              "\n",
              "#sk-container-id-1 label.sk-toggleable__label-arrow:hover:before {\n",
              "  color: var(--sklearn-color-text);\n",
              "}\n",
              "\n",
              "/* Toggleable content - dropdown */\n",
              "\n",
              "#sk-container-id-1 div.sk-toggleable__content {\n",
              "  max-height: 0;\n",
              "  max-width: 0;\n",
              "  overflow: hidden;\n",
              "  text-align: left;\n",
              "  /* unfitted */\n",
              "  background-color: var(--sklearn-color-unfitted-level-0);\n",
              "}\n",
              "\n",
              "#sk-container-id-1 div.sk-toggleable__content.fitted {\n",
              "  /* fitted */\n",
              "  background-color: var(--sklearn-color-fitted-level-0);\n",
              "}\n",
              "\n",
              "#sk-container-id-1 div.sk-toggleable__content pre {\n",
              "  margin: 0.2em;\n",
              "  border-radius: 0.25em;\n",
              "  color: var(--sklearn-color-text);\n",
              "  /* unfitted */\n",
              "  background-color: var(--sklearn-color-unfitted-level-0);\n",
              "}\n",
              "\n",
              "#sk-container-id-1 div.sk-toggleable__content.fitted pre {\n",
              "  /* unfitted */\n",
              "  background-color: var(--sklearn-color-fitted-level-0);\n",
              "}\n",
              "\n",
              "#sk-container-id-1 input.sk-toggleable__control:checked~div.sk-toggleable__content {\n",
              "  /* Expand drop-down */\n",
              "  max-height: 200px;\n",
              "  max-width: 100%;\n",
              "  overflow: auto;\n",
              "}\n",
              "\n",
              "#sk-container-id-1 input.sk-toggleable__control:checked~label.sk-toggleable__label-arrow:before {\n",
              "  content: \"▾\";\n",
              "}\n",
              "\n",
              "/* Pipeline/ColumnTransformer-specific style */\n",
              "\n",
              "#sk-container-id-1 div.sk-label input.sk-toggleable__control:checked~label.sk-toggleable__label {\n",
              "  color: var(--sklearn-color-text);\n",
              "  background-color: var(--sklearn-color-unfitted-level-2);\n",
              "}\n",
              "\n",
              "#sk-container-id-1 div.sk-label.fitted input.sk-toggleable__control:checked~label.sk-toggleable__label {\n",
              "  background-color: var(--sklearn-color-fitted-level-2);\n",
              "}\n",
              "\n",
              "/* Estimator-specific style */\n",
              "\n",
              "/* Colorize estimator box */\n",
              "#sk-container-id-1 div.sk-estimator input.sk-toggleable__control:checked~label.sk-toggleable__label {\n",
              "  /* unfitted */\n",
              "  background-color: var(--sklearn-color-unfitted-level-2);\n",
              "}\n",
              "\n",
              "#sk-container-id-1 div.sk-estimator.fitted input.sk-toggleable__control:checked~label.sk-toggleable__label {\n",
              "  /* fitted */\n",
              "  background-color: var(--sklearn-color-fitted-level-2);\n",
              "}\n",
              "\n",
              "#sk-container-id-1 div.sk-label label.sk-toggleable__label,\n",
              "#sk-container-id-1 div.sk-label label {\n",
              "  /* The background is the default theme color */\n",
              "  color: var(--sklearn-color-text-on-default-background);\n",
              "}\n",
              "\n",
              "/* On hover, darken the color of the background */\n",
              "#sk-container-id-1 div.sk-label:hover label.sk-toggleable__label {\n",
              "  color: var(--sklearn-color-text);\n",
              "  background-color: var(--sklearn-color-unfitted-level-2);\n",
              "}\n",
              "\n",
              "/* Label box, darken color on hover, fitted */\n",
              "#sk-container-id-1 div.sk-label.fitted:hover label.sk-toggleable__label.fitted {\n",
              "  color: var(--sklearn-color-text);\n",
              "  background-color: var(--sklearn-color-fitted-level-2);\n",
              "}\n",
              "\n",
              "/* Estimator label */\n",
              "\n",
              "#sk-container-id-1 div.sk-label label {\n",
              "  font-family: monospace;\n",
              "  font-weight: bold;\n",
              "  display: inline-block;\n",
              "  line-height: 1.2em;\n",
              "}\n",
              "\n",
              "#sk-container-id-1 div.sk-label-container {\n",
              "  text-align: center;\n",
              "}\n",
              "\n",
              "/* Estimator-specific */\n",
              "#sk-container-id-1 div.sk-estimator {\n",
              "  font-family: monospace;\n",
              "  border: 1px dotted var(--sklearn-color-border-box);\n",
              "  border-radius: 0.25em;\n",
              "  box-sizing: border-box;\n",
              "  margin-bottom: 0.5em;\n",
              "  /* unfitted */\n",
              "  background-color: var(--sklearn-color-unfitted-level-0);\n",
              "}\n",
              "\n",
              "#sk-container-id-1 div.sk-estimator.fitted {\n",
              "  /* fitted */\n",
              "  background-color: var(--sklearn-color-fitted-level-0);\n",
              "}\n",
              "\n",
              "/* on hover */\n",
              "#sk-container-id-1 div.sk-estimator:hover {\n",
              "  /* unfitted */\n",
              "  background-color: var(--sklearn-color-unfitted-level-2);\n",
              "}\n",
              "\n",
              "#sk-container-id-1 div.sk-estimator.fitted:hover {\n",
              "  /* fitted */\n",
              "  background-color: var(--sklearn-color-fitted-level-2);\n",
              "}\n",
              "\n",
              "/* Specification for estimator info (e.g. \"i\" and \"?\") */\n",
              "\n",
              "/* Common style for \"i\" and \"?\" */\n",
              "\n",
              ".sk-estimator-doc-link,\n",
              "a:link.sk-estimator-doc-link,\n",
              "a:visited.sk-estimator-doc-link {\n",
              "  float: right;\n",
              "  font-size: smaller;\n",
              "  line-height: 1em;\n",
              "  font-family: monospace;\n",
              "  background-color: var(--sklearn-color-background);\n",
              "  border-radius: 1em;\n",
              "  height: 1em;\n",
              "  width: 1em;\n",
              "  text-decoration: none !important;\n",
              "  margin-left: 0.5em;\n",
              "  text-align: center;\n",
              "  /* unfitted */\n",
              "  border: var(--sklearn-color-unfitted-level-1) 1pt solid;\n",
              "  color: var(--sklearn-color-unfitted-level-1);\n",
              "}\n",
              "\n",
              ".sk-estimator-doc-link.fitted,\n",
              "a:link.sk-estimator-doc-link.fitted,\n",
              "a:visited.sk-estimator-doc-link.fitted {\n",
              "  /* fitted */\n",
              "  border: var(--sklearn-color-fitted-level-1) 1pt solid;\n",
              "  color: var(--sklearn-color-fitted-level-1);\n",
              "}\n",
              "\n",
              "/* On hover */\n",
              "div.sk-estimator:hover .sk-estimator-doc-link:hover,\n",
              ".sk-estimator-doc-link:hover,\n",
              "div.sk-label-container:hover .sk-estimator-doc-link:hover,\n",
              ".sk-estimator-doc-link:hover {\n",
              "  /* unfitted */\n",
              "  background-color: var(--sklearn-color-unfitted-level-3);\n",
              "  color: var(--sklearn-color-background);\n",
              "  text-decoration: none;\n",
              "}\n",
              "\n",
              "div.sk-estimator.fitted:hover .sk-estimator-doc-link.fitted:hover,\n",
              ".sk-estimator-doc-link.fitted:hover,\n",
              "div.sk-label-container:hover .sk-estimator-doc-link.fitted:hover,\n",
              ".sk-estimator-doc-link.fitted:hover {\n",
              "  /* fitted */\n",
              "  background-color: var(--sklearn-color-fitted-level-3);\n",
              "  color: var(--sklearn-color-background);\n",
              "  text-decoration: none;\n",
              "}\n",
              "\n",
              "/* Span, style for the box shown on hovering the info icon */\n",
              ".sk-estimator-doc-link span {\n",
              "  display: none;\n",
              "  z-index: 9999;\n",
              "  position: relative;\n",
              "  font-weight: normal;\n",
              "  right: .2ex;\n",
              "  padding: .5ex;\n",
              "  margin: .5ex;\n",
              "  width: min-content;\n",
              "  min-width: 20ex;\n",
              "  max-width: 50ex;\n",
              "  color: var(--sklearn-color-text);\n",
              "  box-shadow: 2pt 2pt 4pt #999;\n",
              "  /* unfitted */\n",
              "  background: var(--sklearn-color-unfitted-level-0);\n",
              "  border: .5pt solid var(--sklearn-color-unfitted-level-3);\n",
              "}\n",
              "\n",
              ".sk-estimator-doc-link.fitted span {\n",
              "  /* fitted */\n",
              "  background: var(--sklearn-color-fitted-level-0);\n",
              "  border: var(--sklearn-color-fitted-level-3);\n",
              "}\n",
              "\n",
              ".sk-estimator-doc-link:hover span {\n",
              "  display: block;\n",
              "}\n",
              "\n",
              "/* \"?\"-specific style due to the `<a>` HTML tag */\n",
              "\n",
              "#sk-container-id-1 a.estimator_doc_link {\n",
              "  float: right;\n",
              "  font-size: 1rem;\n",
              "  line-height: 1em;\n",
              "  font-family: monospace;\n",
              "  background-color: var(--sklearn-color-background);\n",
              "  border-radius: 1rem;\n",
              "  height: 1rem;\n",
              "  width: 1rem;\n",
              "  text-decoration: none;\n",
              "  /* unfitted */\n",
              "  color: var(--sklearn-color-unfitted-level-1);\n",
              "  border: var(--sklearn-color-unfitted-level-1) 1pt solid;\n",
              "}\n",
              "\n",
              "#sk-container-id-1 a.estimator_doc_link.fitted {\n",
              "  /* fitted */\n",
              "  border: var(--sklearn-color-fitted-level-1) 1pt solid;\n",
              "  color: var(--sklearn-color-fitted-level-1);\n",
              "}\n",
              "\n",
              "/* On hover */\n",
              "#sk-container-id-1 a.estimator_doc_link:hover {\n",
              "  /* unfitted */\n",
              "  background-color: var(--sklearn-color-unfitted-level-3);\n",
              "  color: var(--sklearn-color-background);\n",
              "  text-decoration: none;\n",
              "}\n",
              "\n",
              "#sk-container-id-1 a.estimator_doc_link.fitted:hover {\n",
              "  /* fitted */\n",
              "  background-color: var(--sklearn-color-fitted-level-3);\n",
              "}\n",
              "</style><div id=\"sk-container-id-1\" class=\"sk-top-container\"><div class=\"sk-text-repr-fallback\"><pre>SVC(C=1000, gamma=0.01)</pre><b>In a Jupyter environment, please rerun this cell to show the HTML representation or trust the notebook. <br />On GitHub, the HTML representation is unable to render, please try loading this page with nbviewer.org.</b></div><div class=\"sk-container\" hidden><div class=\"sk-item\"><div class=\"sk-estimator fitted sk-toggleable\"><input class=\"sk-toggleable__control sk-hidden--visually\" id=\"sk-estimator-id-1\" type=\"checkbox\" checked><label for=\"sk-estimator-id-1\" class=\"sk-toggleable__label fitted sk-toggleable__label-arrow\"><div><div>SVC</div></div><div><a class=\"sk-estimator-doc-link fitted\" rel=\"noreferrer\" target=\"_blank\" href=\"https://scikit-learn.org/1.6/modules/generated/sklearn.svm.SVC.html\">?<span>Documentation for SVC</span></a><span class=\"sk-estimator-doc-link fitted\">i<span>Fitted</span></span></div></label><div class=\"sk-toggleable__content fitted\"><pre>SVC(C=1000, gamma=0.01)</pre></div> </div></div></div></div>"
            ]
          },
          "metadata": {},
          "execution_count": 19
        }
      ]
    },
    {
      "cell_type": "markdown",
      "source": [
        "### Testing"
      ],
      "metadata": {
        "id": "b6aUMwN4K85X"
      }
    },
    {
      "cell_type": "markdown",
      "source": [
        "Ahora hacemos el testing y usaremos f1score para comparar despues entre las 2."
      ],
      "metadata": {
        "id": "WzX_y_aDK_xv"
      }
    },
    {
      "cell_type": "code",
      "source": [
        "y_test_parametrized = np.where(y_test <= 0, -1, 1)"
      ],
      "metadata": {
        "id": "XrJIcp3yLEDw"
      },
      "execution_count": null,
      "outputs": []
    },
    {
      "cell_type": "markdown",
      "source": [
        "#### Manual"
      ],
      "metadata": {
        "id": "xhpITBwWLGOH"
      }
    },
    {
      "cell_type": "code",
      "source": [
        "y_predic_manual = svm_manual.algoritmo_sin_librerias_prediccion(X_test=X_test)\n",
        "f1_score_manual = f1_score(y_test_parametrized, y_predic_manual, average='macro')"
      ],
      "metadata": {
        "id": "kQh04HWeLJAx"
      },
      "execution_count": null,
      "outputs": []
    },
    {
      "cell_type": "markdown",
      "source": [
        "#### Por librerias"
      ],
      "metadata": {
        "id": "0-hna1RnLNK0"
      }
    },
    {
      "cell_type": "code",
      "source": [
        "y_predic_lib = clf.predict(X_test)\n",
        "f1_score_lib = f1_score(y_test_parametrized, y_predic_lib, average='macro')"
      ],
      "metadata": {
        "id": "TiA12KFGLQIc"
      },
      "execution_count": null,
      "outputs": []
    },
    {
      "cell_type": "markdown",
      "source": [
        "Como resultado nos da"
      ],
      "metadata": {
        "id": "MXwKE3VDLWtw"
      }
    },
    {
      "cell_type": "code",
      "source": [
        "print(\"F1 SCORE MANUAL: \",f1_score_manual)\n",
        "print(\"F1 SCORE LIBRERIA: \",f1_score_lib)"
      ],
      "metadata": {
        "colab": {
          "base_uri": "https://localhost:8080/"
        },
        "id": "d5msHIa5LYYr",
        "outputId": "6a6b42f2-ab01-461e-d171-15b4add6ddf1"
      },
      "execution_count": null,
      "outputs": [
        {
          "output_type": "stream",
          "name": "stdout",
          "text": [
            "F1 SCORE MANUAL:  0.6523085585585586\n",
            "F1 SCORE LIBRERIA:  0.6761080514030946\n"
          ]
        }
      ]
    },
    {
      "cell_type": "markdown",
      "source": [
        "### Graficar"
      ],
      "metadata": {
        "id": "canriCJzLbbj"
      }
    },
    {
      "cell_type": "markdown",
      "source": [
        "Para graficar definimos una funcion llamada"
      ],
      "metadata": {
        "id": "-pC0Ydi2Ldwz"
      }
    },
    {
      "cell_type": "code",
      "source": [
        "def graph_smv(data_X, labels_y, model):\n",
        "    def get_hyperplane_value(x, weights, bias, offset):\n",
        "        return (-weights[0] * x + bias + offset) / weights[1]\n",
        "\n",
        "    fig = plt.figure()\n",
        "    ax = fig.add_subplot(1, 1, 1)\n",
        "\n",
        "    # Graficar los puntos con colores correspondientes\n",
        "    scatter = plt.scatter(data_X[:, 0], data_X[:, 1], marker=\"o\", c=labels_y, cmap=\"bwr\", edgecolors=\"k\")\n",
        "\n",
        "    # Crear la frontera de decisión\n",
        "    x_min = np.amin(data_X[:, 0])\n",
        "    x_max = np.amax(data_X[:, 0])\n",
        "\n",
        "    y_min = get_hyperplane_value(x_min, model.w, model.b, 0)\n",
        "    y_max = get_hyperplane_value(x_max, model.w, model.b, 0)\n",
        "\n",
        "    y_min_m = get_hyperplane_value(x_min, model.w, model.b, -1)\n",
        "    y_max_m = get_hyperplane_value(x_max, model.w, model.b, -1)\n",
        "\n",
        "    y_min_p = get_hyperplane_value(x_min, model.w, model.b, 1)\n",
        "    y_max_p = get_hyperplane_value(x_max, model.w, model.b, 1)\n",
        "\n",
        "    ax.plot([x_min, x_max], [y_min, y_max], \"y--\", label=\"Hiperplano de decisión\")\n",
        "    ax.plot([x_min, x_max], [y_min_m, y_max_m], \"k\", label=\"Margen -1\")\n",
        "    ax.plot([x_min, x_max], [y_min_p, y_max_p], \"k\", label=\"Margen +1\")\n",
        "\n",
        "    y_range_min = np.amin(data_X[:, 1])\n",
        "    y_range_max = np.amax(data_X[:, 1])\n",
        "    ax.set_ylim([y_range_min - 3, y_range_max + 3])\n",
        "\n",
        "    ax.set_xlabel(\"blueAvgLevel\")\n",
        "    ax.set_ylabel(\"blueKills\")\n",
        "    ax.set_title(\"SVM - Frontera de decisión\")\n",
        "\n",
        "    # Agregar leyenda para los colores de los puntos\n",
        "    legend_labels = {1: \"Blue Wins\", -1: \"Blue Loose\"}\n",
        "    handles = [plt.Line2D([0], [0], marker='o', color='w', markerfacecolor=\"red\", markersize=8, label=\"Blue Wins\"),\n",
        "               plt.Line2D([0], [0], marker='o', color='w', markerfacecolor=\"blue\", markersize=8, label=\"Blue Loose\")]\n",
        "\n",
        "    ax.legend(handles=handles, loc=\"upper right\")\n",
        "\n",
        "    plt.show()\n"
      ],
      "metadata": {
        "id": "SzHsQsrIQi6n"
      },
      "execution_count": 24,
      "outputs": []
    },
    {
      "cell_type": "markdown",
      "source": [
        "#### Grafico del Manual"
      ],
      "metadata": {
        "id": "XWztGD91QlUN"
      }
    },
    {
      "cell_type": "code",
      "source": [
        "graph_smv(data_X=X_train, labels_y=y_trained_parametrized, model=svm_manual)"
      ],
      "metadata": {
        "colab": {
          "base_uri": "https://localhost:8080/",
          "height": 472
        },
        "id": "Fve0ivQBQqcc",
        "outputId": "269d29dc-2bc2-46d1-965b-b05415ef7988"
      },
      "execution_count": 25,
      "outputs": [
        {
          "output_type": "display_data",
          "data": {
            "text/plain": [
              "<Figure size 640x480 with 1 Axes>"
            ],
            "image/png": "[encoded data removed]"
          },
          "metadata": {}
        }
      ]
    },
    {
      "cell_type": "markdown",
      "source": [
        "#### ¿Cuál implementación fue mejor? ¿Por qué?"
      ],
      "metadata": {
        "id": "fD7LNXPxTIvR"
      }
    },
    {
      "cell_type": "markdown",
      "source": [
        "En lo general ambas rindieron bastante bien debido a que si vemos el f1_score , podemos ver que quedaron de 0.65 y 0.67 lo que indica que si bien no son modelos muy buenos, son buenos y tienen cierto margen de mejora. Por obvias razones la de con librerias debido a que hace implementacion de una manera mas rapida , producto de utilizar funciones propias y diseñadas para el algoritmo. A pesar de ello siguen siendo buenos modelos."
      ],
      "metadata": {
        "id": "7IQxULFvTP2c"
      }
    },
    {
      "cell_type": "markdown",
      "source": [
        "## PARTE 3.3 - Comparación"
      ],
      "metadata": {
        "id": "aeUf7XbzTyrF"
      }
    },
    {
      "cell_type": "markdown",
      "source": [
        "### ¿Cómo difirieron los grupos creados por ambos modelos?"
      ],
      "metadata": {
        "id": "PVR2l5P-UGlN"
      }
    },
    {
      "cell_type": "markdown",
      "source": [
        "En ambos grupos se observa una misma division  por ende en realidad no hubo tanta diferencia ya que para esta tarea se utilizo modelos similares y con un rendimiento casi identico"
      ],
      "metadata": {
        "id": "4kF3UNldaNkT"
      }
    },
    {
      "cell_type": "markdown",
      "source": [
        "### ¿Cuál de los modelos fue más rápido?"
      ],
      "metadata": {
        "id": "lhMJmBrvUIjc"
      }
    },
    {
      "cell_type": "markdown",
      "source": [
        "El modelo mas rapido fue el de SVM de sklearn , de hecho en el modelo creado manualmente por cada 100 epocas se tardaba en ejecutar , muy posiblemente ya que el hecho por librerias fue optimizado ya sea usando SDG, o porque fue programado de una manera completamente distinta. Pero me inclino por la parte que usaron SDG y agarraron una pareja de variables de las que debian iterar.\n",
        "\n",
        "Tambien puede ser que utilizaron en c++ alguna forma para realizar paralelismo."
      ],
      "metadata": {
        "id": "-KBJ5QpnddYK"
      }
    },
    {
      "cell_type": "markdown",
      "source": [
        "### ¿Qué modelo usarían?"
      ],
      "metadata": {
        "id": "QJwVPoS9UKzc"
      }
    },
    {
      "cell_type": "markdown",
      "source": [
        "En lo personal usaria el modelo de sklearn debido a que tiene muchas mas opciones que se le pueden pasar, y ademas corre mas rapido, lo que para elementos mas grandes puede ser muy facil de usar.\n",
        "\n"
      ],
      "metadata": {
        "id": "tRwpFbWWd4h7"
      }
    },
    {
      "cell_type": "markdown",
      "source": [
        "# Referencias"
      ],
      "metadata": {
        "id": "HfZq8R79I5Mf"
      }
    },
    {
      "cell_type": "markdown",
      "source": [
        "Github: https://github.com/cor22982/IA.git\n",
        "\n",
        "Paginas web:\n",
        "\n",
        "Dang, K. (2022, 17 noviembre). Why Naive Bayes is called “naive”? and what are the benefits of being “naive”? Medium. https://medium.com/@kirudang/why-naive-bayes-is-called-naive-and-what-are-the-benefits-of-being-naive-180757155b69\n",
        "Jain, A. (2024, 16 noviembre). SVM kernels and its type - Abhishek Jain - Medium. Medium. https://medium.com/@abhishekjainindore24/svm-kernels-and-its-type-dfc3d5f2dcd8\n",
        "\n",
        "Ibm. (2024b, octubre 8). Random Forest. IBM. https://www.ibm.com/mx-es/topics/random-forest\n",
        "\n",
        "\n"
      ],
      "metadata": {
        "id": "PAbSJvFF7SBl"
      }
    }
  ]
}