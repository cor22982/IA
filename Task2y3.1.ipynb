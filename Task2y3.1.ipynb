{
 "cells": [
  {
   "cell_type": "markdown",
   "id": "7dd3b3e8-086c-43e5-a6dc-1d967b560b74",
   "metadata": {},
   "source": [
    "actions(state): Possible moves from a state.\n",
    "step_cost(state, action, next_state): El costo de moverse entre estados.\n",
    "goal_test(state): Validar si un estado es una meta.\n",
    "get_initial_state(): Retorna el estado inicial."
   ]
  },
  {
   "cell_type": "code",
   "execution_count": 4,
   "id": "80495bd7-e4d1-42f7-844f-7fba129f210d",
   "metadata": {},
   "outputs": [
    {
     "name": "stdout",
     "output_type": "stream",
     "text": [
      "Solution Path: [(2, 0), (1, 0), (1, 1), (1, 2), (1, 3), (2, 3)]\n"
     ]
    }
   ],
   "source": [
    "from abc import ABC, abstractmethod\n",
    "\n",
    "#La clase abstracta para el problema\n",
    "class SearchProblem(ABC):\n",
    "    @abstractmethod\n",
    "    def get_initial_state(self):\n",
    "        pass\n",
    "\n",
    "    @abstractmethod\n",
    "    def actions(self, state):\n",
    "        pass\n",
    "\n",
    "    @abstractmethod\n",
    "    def step_cost(self, state, action, next_state):\n",
    "        pass\n",
    "\n",
    "    @abstractmethod\n",
    "    def goal_test(self, state):\n",
    "        pass\n",
    "\n",
    "class MazeProblem(SearchProblem):\n",
    "\n",
    "    def __init__(self, matriz, start, goals):\n",
    "        self.matriz = matriz\n",
    "        self.start = start\n",
    "        self.goals = set(goals)\n",
    "        self.rows = len(matriz)\n",
    "        self.cols = len(matriz[0])\n",
    "\n",
    "    def get_initial_state(self):\n",
    "        return self.start\n",
    "\n",
    "    def actions(self, state):\n",
    "        x, y = state\n",
    "        possible_moves = [\n",
    "            (\"UP\", (x - 1, y)),\n",
    "            (\"DOWN\", (x + 1, y)),\n",
    "            (\"LEFT\", (x, y - 1)),\n",
    "            (\"RIGHT\", (x, y + 1))\n",
    "        ]\n",
    "        \n",
    "        valid_moves = []\n",
    "        for action, (nx, ny) in possible_moves:\n",
    "            if 0 <= nx < self.rows and 0 <= ny < self.cols and self.matriz[nx][ny] != 1:\n",
    "                valid_moves.append(action)\n",
    "\n",
    "        return valid_moves\n",
    "\n",
    "    def step_cost(self, state, action, next_state):\n",
    "        return 1 \n",
    "\n",
    "    def goal_test(self, state):\n",
    "        return state in self.goals"
   ]
  },
  {
   "cell_type": "code",
   "execution_count": null,
   "id": "682deb08-6927-461d-81c1-f19d04e9a8dc",
   "metadata": {},
   "outputs": [],
   "source": [
    "from collections import deque\n",
    "\n",
    "class GraphSearch:\n",
    "    def __init__(self, problem):\n",
    "        self.problem = problem\n",
    "\n",
    "    def breadth_first_search(self):\n",
    "        start = self.problem.get_initial_state()\n",
    "        queue = deque([(start, [])]) \n",
    "        visited = set()\n",
    "\n",
    "        while queue:\n",
    "            state, path = queue.popleft()\n",
    "\n",
    "            if self.problem.goal_test(state):\n",
    "                return path + [state]\n",
    "\n",
    "            if state not in visited:\n",
    "                visited.add(state)\n",
    "\n",
    "                for action in self.problem.actions(state):\n",
    "                    next_state = self.get_next_state(state, action)\n",
    "                    if next_state not in visited:\n",
    "                        queue.append((next_state, path + [state]))\n",
    "\n",
    "        return None  \n",
    "\n",
    "    def get_next_state(self, state, action):\n",
    "        x, y = state\n",
    "        if action == \"UP\":\n",
    "            return (x - 1, y)\n",
    "        elif action == \"DOWN\":\n",
    "            return (x + 1, y)\n",
    "        elif action == \"LEFT\":\n",
    "            return (x, y - 1)\n",
    "        elif action == \"RIGHT\":\n",
    "            return (x, y + 1)\n",
    "        return state "
   ]
  }
 ],
 "metadata": {
  "kernelspec": {
   "display_name": "Python 3 (ipykernel)",
   "language": "python",
   "name": "python3"
  },
  "language_info": {
   "codemirror_mode": {
    "name": "ipython",
    "version": 3
   },
   "file_extension": ".py",
   "mimetype": "text/x-python",
   "name": "python",
   "nbconvert_exporter": "python",
   "pygments_lexer": "ipython3",
   "version": "3.10.12"
  }
 },
 "nbformat": 4,
 "nbformat_minor": 5
}
