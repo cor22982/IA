{
  "cells": [
    {
      "cell_type": "markdown",
      "source": [
        "# Task 1 - Graph-Search"
      ],
      "metadata": {
        "id": "81tRmdgMpFWV"
      }
    },
    {
      "cell_type": "code",
      "source": [
        "import numpy as np\n",
        "import cv2\n",
        "import matplotlib.pyplot as plt\n",
        "from collections import deque\n",
        "\n",
        "def cargar_imagen(ruta):\n",
        "    imagen = cv2.imread(ruta)\n",
        "    imagen = cv2.cvtColor(imagen, cv2.COLOR_BGR2RGB)\n",
        "    return imagen\n",
        "\n",
        "def es_color(pixel, referencia, tolerancia=30):\n",
        "    return np.all(np.abs(pixel - referencia) <= tolerancia)\n",
        "\n",
        "def imagen_a_matriz(imagen, tam_bloque=10):\n",
        "    alto, ancho, _ = imagen.shape\n",
        "    if alto != ancho:\n",
        "        print(\"Error: La imagen no es cuadrada.\")\n",
        "        return None, None, None, None, None\n",
        "\n",
        "    filas, cols = alto // tam_bloque, ancho // tam_bloque\n",
        "    matriz = np.zeros((filas, cols), dtype=int)\n",
        "    inicio = None\n",
        "    metas = []\n",
        "\n",
        "    COLOR_NEGRO = np.array([0, 0, 0])\n",
        "    COLOR_BLANCO = np.array([255, 255, 255])\n",
        "    COLOR_ROJO = np.array([255, 0, 0])\n",
        "    COLOR_VERDE = np.array([0, 255, 0])\n",
        "\n",
        "    for i in range(filas):\n",
        "        for j in range(cols):\n",
        "            bloque = imagen[i * tam_bloque:(i + 1) * tam_bloque, j * tam_bloque:(j + 1) * tam_bloque]\n",
        "            color_promedio = np.mean(bloque, axis=(0, 1))\n",
        "\n",
        "            if es_color(color_promedio, COLOR_BLANCO):\n",
        "                matriz[i, j] = 0\n",
        "            elif es_color(color_promedio, COLOR_NEGRO):\n",
        "                matriz[i, j] = 1\n",
        "            elif es_color(color_promedio, COLOR_ROJO):\n",
        "                matriz[i, j] = 2\n",
        "                inicio = (i, j)\n",
        "            elif es_color(color_promedio, COLOR_VERDE):\n",
        "                matriz[i, j] = 3\n",
        "                metas.append((i, j))\n",
        "\n",
        "    return matriz, inicio, metas, filas, cols\n",
        "\n",
        "def dibujar_matriz(matriz, factor_escala=8):\n",
        "    colores = {0: [255, 255, 255], 1: [0, 0, 0], 2: [255, 0, 0], 3: [0, 255, 0]}\n",
        "    imagen = np.zeros((matriz.shape[0], matriz.shape[1], 3), dtype=np.uint8)\n",
        "\n",
        "    for i in range(matriz.shape[0]):\n",
        "        for j in range(matriz.shape[1]):\n",
        "            imagen[i, j] = colores[matriz[i, j]]\n",
        "\n",
        "    plt.figure(figsize=(matriz.shape[1] // factor_escala, matriz.shape[0] // factor_escala))\n",
        "    plt.imshow(imagen, interpolation=\"nearest\")\n",
        "    plt.axis(\"off\")\n",
        "    plt.show()\n",
        "\n",
        "def procesar_imagen(ruta):\n",
        "    imagen = cargar_imagen(ruta)\n",
        "    matriz, inicio, metas, filas, cols = imagen_a_matriz(imagen, tam_bloque=10)\n",
        "    if inicio is None or not metas:\n",
        "        print(\"Error: La imagen no tiene un inicio o metas válidas.\")\n",
        "        return\n",
        "\n",
        "    dibujar_matriz(matriz)\n"
      ],
      "metadata": {
        "id": "oc1nhg2Bhe_p"
      },
      "execution_count": 132,
      "outputs": []
    },
    {
      "cell_type": "markdown",
      "source": [
        " Para ejecutar el programa es el siguiente comando:\n",
        "\n",
        " resolver_laberinto(\"xxx.bmp\") Puede ser .bmp o .png"
      ],
      "metadata": {
        "id": "Oi6v294apBjy"
      }
    },
    {
      "cell_type": "code",
      "source": [
        "resolver_laberinto(\"Test.bmp\")"
      ],
      "metadata": {
        "colab": {
          "base_uri": "https://localhost:8080/",
          "height": 576
        },
        "id": "k_2qVQoJoBAw",
        "outputId": "958ddd63-cc89-44bd-e164-c59715b781d3"
      },
      "execution_count": 133,
      "outputs": [
        {
          "output_type": "display_data",
          "data": {
            "text/plain": [
              "<Figure size 700x700 with 1 Axes>"
            ],
            "image/png": "[encoded data removed]"
          },
          "metadata": {}
        }
      ]
    },
    {
      "cell_type": "markdown",
      "source": [
        "Repositorio: https://github.com/donmatthiuz/IA/tree/lab5"
      ],
      "metadata": {
        "id": "qqZGUsmNxO6q"
      }
    }
  ],
  "metadata": {
    "colab": {
      "provenance": []
    },
    "kernelspec": {
      "display_name": "Python 3",
      "name": "python3"
    },
    "language_info": {
      "name": "python"
    }
  },
  "nbformat": 4,
  "nbformat_minor": 0
}